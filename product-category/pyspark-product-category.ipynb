{
 "cells": [
  {
   "cell_type": "code",
   "execution_count": 1,
   "metadata": {},
   "outputs": [
    {
     "name": "stdout",
     "output_type": "stream",
     "text": [
      "Defaulting to user installation because normal site-packages is not writeable\n",
      "Requirement already satisfied: pyspark in /home/mista/.local/lib/python3.10/site-packages (3.5.1)\n",
      "Requirement already satisfied: py4j==0.10.9.7 in /home/mista/.local/lib/python3.10/site-packages (from pyspark) (0.10.9.7)\n"
     ]
    }
   ],
   "source": [
    "import sys\n",
    "!{sys.executable} -m pip install pyspark"
   ]
  },
  {
   "cell_type": "code",
   "execution_count": 2,
   "metadata": {},
   "outputs": [],
   "source": [
    "import pyspark\n",
    "from pyspark.sql import SparkSession\n",
    "from pyspark.sql.functions import col, lit"
   ]
  },
  {
   "cell_type": "code",
   "execution_count": 3,
   "metadata": {},
   "outputs": [
    {
     "name": "stderr",
     "output_type": "stream",
     "text": [
      "24/07/24 10:28:01 WARN Utils: Your hostname, mista-ROG-Strix-G614JV-G614JV resolves to a loopback address: 127.0.1.1; using 192.168.16.101 instead (on interface wlo1)\n",
      "24/07/24 10:28:01 WARN Utils: Set SPARK_LOCAL_IP if you need to bind to another address\n",
      "Setting default log level to \"WARN\".\n",
      "To adjust logging level use sc.setLogLevel(newLevel). For SparkR, use setLogLevel(newLevel).\n",
      "24/07/24 10:28:01 WARN NativeCodeLoader: Unable to load native-hadoop library for your platform... using builtin-java classes where applicable\n"
     ]
    }
   ],
   "source": [
    "# Создаем Spark сессию\n",
    "spark = SparkSession.builder.master(\"local\").appName(\"ProductCategory\").getOrCreate()"
   ]
  },
  {
   "cell_type": "code",
   "execution_count": 4,
   "metadata": {},
   "outputs": [],
   "source": [
    "# Пример данных\n",
    "products_data = [(\"Product1\",), (\"Product2\",), (\"Product3\",)]\n",
    "categories_data = [(\"Category1\",), (\"Category2\",)]\n",
    "product_category_data = [(\"Product1\", \"Category1\"), (\"Product2\", \"Category2\")]\n"
   ]
  },
  {
   "cell_type": "code",
   "execution_count": 5,
   "metadata": {},
   "outputs": [],
   "source": [
    "# Создаем датафреймы\n",
    "products_df = spark.createDataFrame(products_data, [\"product_name\"])\n",
    "categories_df = spark.createDataFrame(categories_data, [\"category_name\"])\n",
    "product_category_df = spark.createDataFrame(product_category_data, [\"product_name\", \"category_name\"])"
   ]
  },
  {
   "cell_type": "code",
   "execution_count": 8,
   "metadata": {},
   "outputs": [],
   "source": [
    "# Метод для получения пар и продуктов без категорий\n",
    "def get_product_category_info(products_df, categories_df, product_category_df):\n",
    "    # Внешнее соединение, чтобы получить все продукты с категориями и без\n",
    "    product_category_joined = products_df.join(product_category_df, \"product_name\", \"left_outer\")\n",
    "    \n",
    "    # Продукты без категорий\n",
    "    products_without_category = product_category_joined.filter(col(\"category_name\").isNull()).select(\"product_name\")\n",
    "    \n",
    "    # Продукты с категориями\n",
    "    product_category_pairs = product_category_joined.filter(col(\"category_name\").isNotNull()).select(\"product_name\", \"category_name\")\n",
    "    \n",
    "    return product_category_pairs, products_without_category"
   ]
  },
  {
   "cell_type": "code",
   "execution_count": 9,
   "metadata": {},
   "outputs": [],
   "source": [
    "# Применяем метод\n",
    "product_category_pairs, products_without_category = get_product_category_info(products_df, categories_df, product_category_df)"
   ]
  },
  {
   "cell_type": "code",
   "execution_count": 10,
   "metadata": {},
   "outputs": [
    {
     "name": "stdout",
     "output_type": "stream",
     "text": [
      "Product-Category Pairs:\n",
      "+------------+-------------+\n",
      "|product_name|category_name|\n",
      "+------------+-------------+\n",
      "|    Product1|    Category1|\n",
      "|    Product2|    Category2|\n",
      "+------------+-------------+\n",
      "\n"
     ]
    }
   ],
   "source": [
    "# Выводим результат\n",
    "print(\"Product-Category Pairs:\")\n",
    "product_category_pairs.show()"
   ]
  },
  {
   "cell_type": "code",
   "execution_count": 11,
   "metadata": {},
   "outputs": [
    {
     "name": "stdout",
     "output_type": "stream",
     "text": [
      "Products without Category:\n",
      "+------------+\n",
      "|product_name|\n",
      "+------------+\n",
      "|    Product3|\n",
      "+------------+\n",
      "\n"
     ]
    }
   ],
   "source": [
    "print(\"Products without Category:\")\n",
    "products_without_category.show()"
   ]
  }
 ],
 "metadata": {
  "kernelspec": {
   "display_name": "Python 3",
   "language": "python",
   "name": "python3"
  },
  "language_info": {
   "codemirror_mode": {
    "name": "ipython",
    "version": 3
   },
   "file_extension": ".py",
   "mimetype": "text/x-python",
   "name": "python",
   "nbconvert_exporter": "python",
   "pygments_lexer": "ipython3",
   "version": "3.10.12"
  }
 },
 "nbformat": 4,
 "nbformat_minor": 2
}
